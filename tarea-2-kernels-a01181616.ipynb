{
 "cells": [
  {
   "cell_type": "markdown",
   "source": [
    "# Tarea 2 - Kernels\n",
    "## Librerías\n",
    "Antes de comenzar, asegurarse que se tienen las siguentes librerías instaladas\n",
    "se recomienda utilizar venv o virtualenv.\n",
    "\n",
    "1. ` pip install pillow `\n",
    "\n",
    "## Instrucciones\n",
    "En este ejercicio debes usar la imagen panda.png, la cual se encuentra en Canvas:\n",
    "1. Transforma la imagen a tono de grises y trabaja con esta en los siguientes incisos. \n",
    "2. Investiga cómo se definen los filtros derivada (horizontal y vertical) Prewitt, Sobel y Scharr.\n",
    "Aplica a la imagen de grises anterior los filtros Prewitt, Sobel y Scharr, para la detección de contornos.\n",
    "Muestra cada una de las imágenes resultantes.\n",
    "\n",
    " NOTA: La implementación de estos kernels deben ser sin usar los métodos de algunas de las librerías.\n",
    "Es decir, debes definirlos e implementarlas manualmente.    \n",
    " \n",
    "3. Utiliza alguna de las librerías deseadas para implementar el método de Canny para la detección de bordes.\n",
    "4. En este inciso deberás dibujar en la imagen a color panda.png, los vectores gradiente, ortogonales a los contornos de\n",
    "la imagen de manera similar a como se muestra en el archivo 02_Fundamentos_y_Transformaciones.pdf, diapositiva 36.\n",
    "\n",
    "Para calcular y aproximar el gradiente puedes utilizar cualquiera de los kernels derivada (Sobel, Prewitt o Scharr) que \n",
    "desees, para obtener las parciales con 𝑥 y con 𝑦. Además, para una mejor visualización de los vectores gradientes, \n",
    "puedes dibujar solamente un porcentaje de dichos vectores gradientes y solo aquellos que tengan las magnitudes más \n",
    "significativas. Asimismo, puedes estandarizar la magnitud de los vectores gradientes a un valor constante que desees."
   ],
   "metadata": {
    "collapsed": false
   }
  },
  {
   "cell_type": "markdown",
   "source": [
    "### Import statements y definimos constantes"
   ],
   "metadata": {
    "collapsed": false,
    "pycharm": {
     "name": "#%% md\n"
    }
   }
  },
  {
   "cell_type": "code",
   "execution_count": 2,
   "outputs": [],
   "source": [
    "from PIL import Image\n",
    "IMAGE_PATH = \"resources/panda.png\""
   ],
   "metadata": {
    "collapsed": false,
    "pycharm": {
     "name": "#%%\n",
     "is_executing": false
    }
   }
  },
  {
   "cell_type": "markdown",
   "source": [
    "### 1. Cargar la imagen y convertirla a tonos de grises"
   ],
   "metadata": {
    "collapsed": false,
    "pycharm": {
     "name": "#%% md\n"
    }
   }
  },
  {
   "cell_type": "code",
   "execution_count": null,
   "outputs": [],
   "source": [],
   "metadata": {
    "collapsed": false,
    "pycharm": {
     "name": "#%%\n"
    }
   }
  },
  {
   "cell_type": "markdown",
   "source": [
    "### 2.1. Definimos el método para Prewitt, Sobel, Scharr y Canny"
   ],
   "metadata": {
    "collapsed": false
   }
  },
  {
   "cell_type": "code",
   "execution_count": null,
   "outputs": [],
   "source": [],
   "metadata": {
    "collapsed": false,
    "pycharm": {
     "name": "#%%\n"
    }
   }
  },
  {
   "cell_type": "markdown",
   "source": [
    "### 2.2. Aplicamos Prewitt"
   ],
   "metadata": {
    "collapsed": false
   }
  },
  {
   "cell_type": "code",
   "execution_count": null,
   "outputs": [],
   "source": [],
   "metadata": {
    "collapsed": false,
    "pycharm": {
     "name": "#%%\n"
    }
   }
  },
  {
   "cell_type": "markdown",
   "source": [
    "### 2.2. Aplicamos Sobel"
   ],
   "metadata": {
    "collapsed": false
   }
  },
  {
   "cell_type": "code",
   "execution_count": null,
   "outputs": [],
   "source": [],
   "metadata": {
    "collapsed": false,
    "pycharm": {
     "name": "#%%\n"
    }
   }
  },
  {
   "cell_type": "markdown",
   "source": [
    "### 2.2. Aplicamos Scharr"
   ],
   "metadata": {
    "collapsed": false
   }
  },
  {
   "cell_type": "code",
   "execution_count": null,
   "outputs": [],
   "source": [],
   "metadata": {
    "collapsed": false,
    "pycharm": {
     "name": "#%%\n"
    }
   }
  },
  {
   "cell_type": "markdown",
   "source": [
    "### 3. Aplicamos Canny"
   ],
   "metadata": {
    "collapsed": false
   }
  },
  {
   "cell_type": "code",
   "execution_count": null,
   "outputs": [],
   "source": [],
   "metadata": {
    "collapsed": false,
    "pycharm": {
     "name": "#%%\n"
    }
   }
  },
  {
   "cell_type": "markdown",
   "source": [
    "### 4. Mostramos la gradiente en la imagen a color"
   ],
   "metadata": {
    "collapsed": false
   }
  },
  {
   "cell_type": "code",
   "execution_count": null,
   "outputs": [],
   "source": [],
   "metadata": {
    "collapsed": false,
    "pycharm": {
     "name": "#%%\n"
    }
   }
  }
 ],
 "metadata": {
  "kernelspec": {
   "name": "venv-topicosai",
   "language": "python",
   "display_name": "venv-topicosai"
  },
  "language_info": {
   "codemirror_mode": {
    "name": "ipython",
    "version": 2
   },
   "file_extension": ".py",
   "mimetype": "text/x-python",
   "name": "python",
   "nbconvert_exporter": "python",
   "pygments_lexer": "ipython2",
   "version": "2.7.6"
  },
  "pycharm": {
   "stem_cell": {
    "cell_type": "raw",
    "source": [],
    "metadata": {
     "collapsed": false
    }
   }
  }
 },
 "nbformat": 4,
 "nbformat_minor": 0
}