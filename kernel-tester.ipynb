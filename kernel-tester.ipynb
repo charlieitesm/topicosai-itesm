{
 "cells": [
  {
   "cell_type": "markdown",
   "metadata": {
    "pycharm": {
     "name": "#%% md\n"
    }
   },
   "source": [
    "### Import statements, Jupyter magic y definimos constantes"
   ]
  },
  {
   "cell_type": "code",
   "execution_count": 1,
   "metadata": {
    "pycharm": {
     "is_executing": false,
     "name": "#%%\n"
    }
   },
   "outputs": [],
   "source": [
    "%matplotlib inline"
   ]
  },
  {
   "cell_type": "code",
   "execution_count": 2,
   "metadata": {
    "pycharm": {
     "is_executing": false,
     "name": "#%%\n"
    }
   },
   "outputs": [],
   "source": [
    "from enum import Enum\n",
    "from math import floor, sqrt\n",
    "from PIL import Image\n",
    "\n",
    "import matplotlib.pyplot as plt\n",
    "import numpy as np\n",
    "\n",
    "class PaddingMode(Enum):\n",
    "    CEROS = \"constant\"\n",
    "    REPLICA = \"edge\"\n",
    "    SIMETRIA = \"symmetric\"\n",
    "    CICLICO = \"wrap\""
   ]
  },
  {
   "cell_type": "markdown",
   "metadata": {
    "pycharm": {
     "name": "#%% md\n"
    }
   },
   "source": [
    "### Funciones auxiliares"
   ]
  },
  {
   "cell_type": "code",
   "execution_count": 5,
   "metadata": {
    "pycharm": {
     "is_executing": false,
     "name": "#%%\n"
    }
   },
   "outputs": [],
   "source": [
    "def apply_kernel(image, kernel, post_kernel_operation):\n",
    "    \n",
    "    border_offset = floor(len(kernel) / 2)\n",
    "    old_y_size, old_x_size = image.shape\n",
    "    \n",
    "    # The new image doesn't have a border and we need to account for the first and last row and columns (x2)\n",
    "    new_image = np.zeros((old_y_size - (border_offset * 2), old_x_size - (border_offset * 2)), dtype=int)\n",
    "    \n",
    "    # Apply the kernel to each of the values\n",
    "    # We need to start at the center of the kernel on the image, which is given by (boder_offset, border_offset)\n",
    "    #  And end at the maximum size minus the border, with that, the output image will not have a border\n",
    "    for y in range(border_offset, old_y_size - border_offset):\n",
    "        for x in range(border_offset, old_x_size - border_offset):\n",
    "            \n",
    "            new_pixel = 0\n",
    "            for (kernel_x, kernel_y), kernel_value in np.ndenumerate(kernel):\n",
    "                old_value = image[x - border_offset + kernel_x,\n",
    "                                  y - border_offset + kernel_y]\n",
    "                new_pixel += old_value * kernel_value\n",
    "            \n",
    "            new_pixel = post_kernel_operation(new_pixel)\n",
    "            \n",
    "            new_x = x - border_offset\n",
    "            new_y = y - border_offset\n",
    "            \n",
    "            new_image[new_x, new_y] = new_pixel\n",
    "            \n",
    "    return new_image\n",
    "\n",
    "def scale_pixel_values(image, low: int = 0, high: int = 255):\n",
    "    image = np.copy(image).astype(\"int32\")\n",
    "    \n",
    "    min_value = np.amin(image)\n",
    "    max_value = np.amax(image)\n",
    "    \n",
    "    image_scale_size = max_value - min_value\n",
    "    reference_scale_size = high - low\n",
    "    \n",
    "    scale_factor = image_scale_size / reference_scale_size\n",
    "    scale_factor = 1 if scale_factor == 0 else scale_factor # Avoiding dividing by zero\n",
    "    \n",
    "    # Use the size factor to divide all of the values in the image and floor them\n",
    "    y_size, x_size = image.shape\n",
    "    \n",
    "    for y in range(y_size):\n",
    "        for x in range(x_size):\n",
    "            # First, we need to move the value to begin at the same point as low\n",
    "            val = image[y][x]\n",
    "            moved_val = val - min_value + low\n",
    "            # Apply the floored scale factor\n",
    "            image[y][x] = floor(moved_val / scale_factor)\n",
    "    \n",
    "    image = image.astype(\"int32\")\n",
    "    \n",
    "    return image\n",
    "\n",
    "def execute_operator(image, kernel,\n",
    "                     is_convolution: bool=False,\n",
    "                     padding_mode: PaddingMode = PaddingMode.CEROS,\n",
    "                     post_kernel_operation = lambda pixel: pixel):\n",
    "    # TODO: Add option to apply Gaussian blur prior to applying the kernel\n",
    "    # We are assuming the kernel will be a square with a single center, i.e. size is of odd length\n",
    "    image = np.copy(image).astype(\"int32\")\n",
    "    if is_convolution:\n",
    "        kernel = np.rot90(kernel, k=2)\n",
    "    \n",
    "    # Calculate the padding\n",
    "    border_offset = floor(len(kernel) / 2)\n",
    "    \n",
    "    # Add padding to make sure the kernel is uniformly applied\n",
    "    if padding_mode == PaddingMode.CEROS:\n",
    "        image = np.pad(image, pad_width=border_offset, mode=PaddingMode.CEROS.value, constant_values=0)\n",
    "    else:\n",
    "        image = np.pad(image, pad_width=border_offset, mode=padding_mode.value)\n",
    "    \n",
    "    image = image.astype(\"int32\")\n",
    "    \n",
    "    new_image = apply_kernel(image, kernel, post_kernel_operation)\n",
    "    \n",
    "    return new_image\n",
    "\n",
    "def combine_gradients(gx, gy, strategy):\n",
    "    y_len, x_len = gx.shape\n",
    "    gradient = np.zeros((y_len, x_len))\n",
    "    \n",
    "    # TODO: Calculate Gradient Direction Too\n",
    "    for y in range(y_len):\n",
    "        for x in range(x_len):\n",
    "            gradient[y][x] = strategy(gx[y][x], gy[y][x])\n",
    "    \n",
    "    return gradient\n",
    "\n",
    "def calculate_gradient_pythagoras(x_elm, y_elm):\n",
    "    return sqrt(x_elm**2 + y_elm**2)\n",
    "\n",
    "def convert_to_bw_gradient_image(image, threshold: int):\n",
    "    new_image = np.copy(image).astype(\"int32\")\n",
    "    new_image[new_image >= threshold] = 255\n",
    "    new_image[new_image != 255] = 0\n",
    "    return new_image"
   ]
  },
  {
   "cell_type": "markdown",
   "metadata": {
    "pycharm": {
     "name": "#%% md\n"
    }
   },
   "source": [
    "### 1. Cargar la imagen"
   ]
  },
  {
   "cell_type": "code",
   "execution_count": 8,
   "metadata": {
    "pycharm": {
     "is_executing": false,
     "name": "#%%\n"
    }
   },
   "outputs": [],
   "source": [
    "w = [[-10,-10, 0],\n",
    "     [-10,  0, 10],\n",
    "     [ 0,  10, 10]]\n",
    "\n",
    "H = [[10,20,0,30],\n",
    "     [20,0,10,20],\n",
    "     [10,0,40,10],\n",
    "     [20,40,0,30]]"
   ]
  },
  {
   "cell_type": "code",
   "execution_count": 9,
   "outputs": [
    {
     "name": "stdout",
     "text": [
      "[[ 400    0  400  200]\n",
      " [   0    0  500 -300]\n",
      " [ 400  500  300 -400]\n",
      " [ 300 -300 -500 -500]]\n"
     ],
     "output_type": "stream"
    }
   ],
   "source": [
    "# Cross Correlation\n",
    "ccorr = execute_operator(H, w, is_convolution = False)\n",
    "print(ccorr)"
   ],
   "metadata": {
    "collapsed": false,
    "pycharm": {
     "name": "#%%\n",
     "is_executing": false
    }
   }
  },
  {
   "cell_type": "code",
   "execution_count": 10,
   "metadata": {
    "pycharm": {
     "is_executing": false
    }
   },
   "outputs": [
    {
     "name": "stdout",
     "text": [
      "[[-400    0 -400 -200]\n",
      " [   0    0 -500  300]\n",
      " [-400 -500 -300  400]\n",
      " [-300  300  500  500]]\n"
     ],
     "output_type": "stream"
    }
   ],
   "source": [
    "# Convolution\n",
    "ccorr = execute_operator(H, w, is_convolution = True)\n",
    "print(ccorr)"
   ]
  },
  {
   "cell_type": "code",
   "execution_count": 6,
   "metadata": {
    "pycharm": {
     "is_executing": false
    }
   },
   "outputs": [
    {
     "name": "stdout",
     "text": [
      "[[ 1  0 -1]\n",
      " [ 7  4 -7]\n",
      " [ 6  3 -6]]\n",
      "\n",
      "[[-6  3  6]\n",
      " [-7  4  7]\n",
      " [-1  0  1]]\n"
     ],
     "output_type": "stream"
    }
   ],
   "source": [
    "# Ejercicio Cross Correlation Clase\n",
    "w_cc1 = [[-1, 0, 1],\n",
    "         [-1, 0, 1],\n",
    "         [-1, 0, 1]]\n",
    "\n",
    "f_cc1 = [[2, 1, 3],\n",
    "         [5, 0, 4],\n",
    "         [1, 6, 5]]\n",
    "\n",
    "f_cc_w = execute_operator(f_cc1, w_cc1, is_convolution = False)\n",
    "\n",
    "print(f_cc_w)\n",
    "print()\n",
    "\n",
    "w_cc_f = execute_operator(w_cc1, f_cc1, is_convolution = False)\n",
    "\n",
    "print(w_cc_f)\n"
   ]
  },
  {
   "cell_type": "code",
   "execution_count": 7,
   "metadata": {
    "pycharm": {
     "is_executing": false,
     "name": "#%%\n"
    }
   },
   "outputs": [
    {
     "name": "stdout",
     "text": [
      "[[-1  0  1]\n",
      " [-7 -4  7]\n",
      " [-6 -3  6]]\n",
      "\n",
      "[[-1  0  1]\n",
      " [-7 -4  7]\n",
      " [-6 -3  6]]\n"
     ],
     "output_type": "stream"
    }
   ],
   "source": [
    "# Ejercicio convolution Clase\n",
    "w_con1 = [[-1, 0, 1],\n",
    "         [-1, 0, 1],\n",
    "         [-1, 0, 1]]\n",
    "\n",
    "f_con1 = [[2, 1, 3],\n",
    "         [5, 0, 4],\n",
    "         [1, 6, 5]]\n",
    "\n",
    "f_con_w = execute_operator(f_con1, w_con1, is_convolution = True)\n",
    "\n",
    "print(f_con_w)\n",
    "print()\n",
    "\n",
    "w_con_f = execute_operator(w_con1, f_con1, is_convolution = True)\n",
    "\n",
    "print(w_con_f)\n",
    "\n"
   ]
  }
 ],
 "metadata": {
  "kernelspec": {
   "display_name": "venv-topicosai",
   "language": "python",
   "name": "venv-topicosai"
  },
  "language_info": {
   "codemirror_mode": {
    "name": "ipython",
    "version": 3
   },
   "file_extension": ".py",
   "mimetype": "text/x-python",
   "name": "python",
   "nbconvert_exporter": "python",
   "pygments_lexer": "ipython3",
   "version": "3.7.6"
  },
  "pycharm": {
   "stem_cell": {
    "cell_type": "raw",
    "source": [],
    "metadata": {
     "collapsed": false
    }
   }
  }
 },
 "nbformat": 4,
 "nbformat_minor": 1
}